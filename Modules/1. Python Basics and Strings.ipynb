{
 "cells": [
  {
   "cell_type": "markdown",
   "id": "8926788b",
   "metadata": {},
   "source": [
    "# Python Workshop\n",
    "\n",
    "### What is Python?\n",
    "Python is a popular programming language. It was created by Guido van Rossum, and released in 1991.\n",
    "\n",
    "It is used for:\n",
    "- web development (server-side),\n",
    "- software development,\n",
    "- mathematics,\n",
    "- system scripting.\n",
    "\n",
    "### What can Python do?\n",
    "- Python can be used on a server to create web applications.\n",
    "- Python can be used alongside software to create workflows.\n",
    "- Python can connect to database systems. It can also read and modify files.\n",
    "- Python can be used to handle big data and perform complex mathematics.\n",
    "- Python can be used for rapid prototyping, or for production-ready software development.\n",
    "\n",
    "### Why Python?\n",
    "- Python works on different platforms (Windows, Mac, Linux, Raspberry Pi, etc).\n",
    "- Python has a simple syntax similar to the English language.\n",
    "- Python has syntax that allows developers to write programs with fewer lines than some other programming languages.\n",
    "- Python runs on an interpreter system, meaning that code can be executed as soon as it is written. This means that prototyping can be very quick.\n",
    "- Python can be treated in a procedural way, an object-oriented way or a functional way."
   ]
  },
  {
   "cell_type": "markdown",
   "id": "760870f5",
   "metadata": {},
   "source": [
    "## Basics"
   ]
  },
  {
   "cell_type": "markdown",
   "id": "34d83ab3",
   "metadata": {},
   "source": [
    "### Printing in Python\n",
    "\n",
    "\n",
    "Lets start with the \"Hello World\" of python. \n",
    "To print in python we use the print() function. The print() function prints the specified message to the screen, or other standard output device.\n",
    "\n",
    "The message can be a string, or any other object, the object will be converted into a string before written to the screen."
   ]
  },
  {
   "cell_type": "code",
   "execution_count": 1,
   "id": "dc3de3fc",
   "metadata": {},
   "outputs": [
    {
     "name": "stdout",
     "output_type": "stream",
     "text": [
      "Hello World\n"
     ]
    }
   ],
   "source": [
    "print(\"Hello World\")"
   ]
  },
  {
   "cell_type": "code",
   "execution_count": 14,
   "id": "1a1b9033",
   "metadata": {},
   "outputs": [
    {
     "name": "stdout",
     "output_type": "stream",
     "text": [
      "How you doing?\n",
      "1  2  3 \n",
      "1, 2, 3\n"
     ]
    }
   ],
   "source": [
    "# for printing more then one value\n",
    "print(\"How\", \"you\", \"doing?\")\n",
    "\n",
    "# use sep argument to change the deafualt seperator between two values\n",
    "print(\"1 \",\"2 \",\"3 \")\n",
    "print(\"1\",\"2\",\"3\", sep=', ')"
   ]
  },
  {
   "cell_type": "markdown",
   "id": "6f321460",
   "metadata": {},
   "source": [
    "### Variables\n",
    "\n",
    "Variables are containers for storing data values. Think of them as boxes in which you can place any item, replace the said item, check which item is stored or make the insides of it empty.\n",
    "\n",
    "This analogy will not perfectly fit what variables are but will provide a better understanding of _variables_ as a concept.\n",
    "\n",
    "In python to make a variable (or an empty box) we just need to write the name of the variable. The naming scheme though follows some rules:\n",
    "- A variable name must start with a letter or the underscore character\n",
    "- A variable name cannot start with a number\n",
    "- A variable name can only contain alpha-numeric characters and underscores (A-z, 0-9, and _ )\n",
    "- Variable names are case-sensitive (age, Age and AGE are three different variables)"
   ]
  },
  {
   "cell_type": "code",
   "execution_count": 19,
   "id": "dd039e49",
   "metadata": {},
   "outputs": [
    {
     "name": "stdout",
     "output_type": "stream",
     "text": [
      "5\n",
      "John\n"
     ]
    }
   ],
   "source": [
    "# A variable is created the moment you first assign a value to it\n",
    "# Python has no command for declaring a variable.\n",
    "x = 5\n",
    "y = \"John\"\n",
    "\n",
    "# passing a variable to print function is the same as passing a word in the above section, notice the lack of quotes in case\n",
    "# of passing a variable\n",
    "print(x)\n",
    "print(y)"
   ]
  },
  {
   "cell_type": "code",
   "execution_count": 16,
   "id": "9fe149d4",
   "metadata": {},
   "outputs": [
    {
     "name": "stdout",
     "output_type": "stream",
     "text": [
      "5\n",
      "John\n"
     ]
    }
   ],
   "source": [
    "# Variables do not need to be declared with any particular type, and can even change type after they have been set. \n",
    "# This is called dynamic memory allocation\n",
    "\n",
    "x = 5\n",
    "print(x)\n",
    "x = 'John'\n",
    "print(x)"
   ]
  },
  {
   "cell_type": "code",
   "execution_count": 17,
   "id": "1182748f",
   "metadata": {},
   "outputs": [
    {
     "name": "stdout",
     "output_type": "stream",
     "text": [
      "Orange\n",
      "Banana\n",
      "Cherry\n"
     ]
    }
   ],
   "source": [
    "# you can also assign multiple values at once\n",
    "\n",
    "x, y, z = \"Orange\", \"Banana\", \"Cherry\"\n",
    "print(x)\n",
    "print(y)\n",
    "print(z)"
   ]
  },
  {
   "cell_type": "code",
   "execution_count": 18,
   "id": "6cd45dee",
   "metadata": {},
   "outputs": [
    {
     "name": "stdout",
     "output_type": "stream",
     "text": [
      "Orange\n",
      "Orange\n",
      "Orange\n"
     ]
    }
   ],
   "source": [
    "# you can assign the same value to multiple variables in one line:\n",
    "\n",
    "x = y = z = \"Orange\" \n",
    "print(x)\n",
    "print(y)\n",
    "print(z)"
   ]
  },
  {
   "cell_type": "markdown",
   "id": "75148532",
   "metadata": {},
   "source": [
    "#### Python Data Types\n",
    "In programming, data type is an important concept.<br>\n",
    "Variables can store data of different types, and different types can do different things.<br>\n",
    "Python has the following data types built-in by default, in these categories:\n",
    "```\n",
    "Text Type:\t   str\n",
    "Numeric Types:   int, float, complex\n",
    "Sequence Types:  list, tuple, range\n",
    "Mapping Type:\tdict\n",
    "Set Types:\t   set, frozenset\n",
    "Boolean Type:\tbool\n",
    "Binary Types:\tbytes, bytearray, memoryview\n",
    "```"
   ]
  },
  {
   "cell_type": "code",
   "execution_count": 20,
   "id": "613adc00",
   "metadata": {},
   "outputs": [],
   "source": [
    "# First we'll only work with int, string and floats\n",
    "x = 1      # To init a int variable just assign a integer number to the varaible\n",
    "y = 1.25   # To init a float variable just assign a decimal number to the varaible\n",
    "z = \"1.25\" # To init a string variable just assign a string (something with quotation marks) to the varaible"
   ]
  },
  {
   "cell_type": "code",
   "execution_count": 21,
   "id": "084a1a81",
   "metadata": {},
   "outputs": [
    {
     "name": "stdout",
     "output_type": "stream",
     "text": [
      "<class 'int'>\n",
      "<class 'float'>\n",
      "<class 'str'>\n"
     ]
    }
   ],
   "source": [
    "# To check the type of variable, use the type() function\n",
    "print(type(x))\n",
    "print(type(y))\n",
    "print(type(z))"
   ]
  },
  {
   "cell_type": "markdown",
   "id": "ec2f505c",
   "metadata": {},
   "source": [
    "### Type Casting\n",
    "\n",
    "There may be times when you want to specify a type on to a variable. This can be done with casting.\n",
    "\n",
    "To case one variable of one type to another just pass the variable or the value to the desired constructor function."
   ]
  },
  {
   "cell_type": "code",
   "execution_count": 22,
   "id": "8ae518d6",
   "metadata": {},
   "outputs": [
    {
     "name": "stdout",
     "output_type": "stream",
     "text": [
      "<class 'str'>\n"
     ]
    }
   ],
   "source": [
    "x = 7\n",
    "y = str(x)\n",
    "print(type(y))"
   ]
  },
  {
   "cell_type": "markdown",
   "id": "6003a10b",
   "metadata": {},
   "source": [
    "In Implicit type conversion, Python automatically converts one data type to another data type. This process doesn't need any user involvemen"
   ]
  },
  {
   "cell_type": "code",
   "execution_count": 24,
   "id": "d787f1e5",
   "metadata": {},
   "outputs": [
    {
     "name": "stdout",
     "output_type": "stream",
     "text": [
      "datatype of num_int: <class 'int'>\n",
      "datatype of num_flo: <class 'float'>\n",
      "Value of num_new: 124.23\n",
      "datatype of num_new: <class 'float'>\n"
     ]
    }
   ],
   "source": [
    "num_int = 123\n",
    "num_flo = 1.23\n",
    "\n",
    "num_new = num_int + num_flo\n",
    "\n",
    "print(\"datatype of num_int:\",type(num_int))\n",
    "print(\"datatype of num_flo:\",type(num_flo))\n",
    "\n",
    "print(\"Value of num_new:\",num_new)\n",
    "print(\"datatype of num_new:\",type(num_new))"
   ]
  },
  {
   "cell_type": "code",
   "execution_count": 23,
   "id": "c6350508",
   "metadata": {},
   "outputs": [
    {
     "name": "stdout",
     "output_type": "stream",
     "text": [
      "error occured\n"
     ]
    }
   ],
   "source": [
    "# Ignore the try except part of the code, it helps us to suppress any error\n",
    "\n",
    "try:\n",
    "    x = \"hello\"\n",
    "    y = int(x)\n",
    "    print(type(y))\n",
    "    \n",
    "except:\n",
    "    print(\"error occured\")"
   ]
  },
  {
   "cell_type": "markdown",
   "id": "c1cfc983",
   "metadata": {},
   "source": [
    "## Strings\n",
    "\n",
    "### What are strings?\n",
    "- It is the sequence of Unicode characters wrapped inside single, double, or triple quotes.\n",
    "- It is an immutable sequence datatype\n"
   ]
  },
  {
   "cell_type": "code",
   "execution_count": 26,
   "id": "28042400",
   "metadata": {},
   "outputs": [
    {
     "name": "stdout",
     "output_type": "stream",
     "text": [
      "Test Case\n"
     ]
    }
   ],
   "source": [
    "# Assigning a string to a variable\n",
    "a = \"Test Case\"\n",
    "print(a)"
   ]
  },
  {
   "cell_type": "markdown",
   "id": "21b18f91",
   "metadata": {},
   "source": [
    "Tip : To write a long continuous strings use ```\\```   to break the string to make it more representable or use ```'''```"
   ]
  },
  {
   "cell_type": "code",
   "execution_count": 32,
   "id": "4a7be48b",
   "metadata": {},
   "outputs": [
    {
     "name": "stdout",
     "output_type": "stream",
     "text": [
      "It is a long established fact that a reader will be distracted by the readable content of a page when looking at its layout. The point of using Lorem Ipsum is that it has a more-or-less normal distribution of letters, as opposed to using 'Content here, content here', making it look like readable English. Many desktop publishing packages and web page editors now use Lorem Ipsum as their default model text, and a search for 'lorem ipsum' will uncover many web sites still in their infancy.Various versions have evolved over the years.\n"
     ]
    }
   ],
   "source": [
    "# Multiline String or Paragraphs\n",
    "para = '''\\\n",
    "It is a long established fact that a reader will be distracted by the readable \\\n",
    "content of a page when looking at its layout. The point of using Lorem Ipsum is that \\\n",
    "it has a more-or-less normal distribution of letters, as opposed to using 'Content here, \\\n",
    "content here', making it look like readable English. Many desktop publishing packages and \\\n",
    "web page editors now use Lorem Ipsum as their default model text, and a search for 'lorem ipsum' \\\n",
    "will uncover many web sites still in their infancy.Various versions have evolved over the years.\\\n",
    "'''\n",
    "\n",
    "print(para)"
   ]
  },
  {
   "cell_type": "markdown",
   "id": "6e9ae277",
   "metadata": {},
   "source": [
    "### Common String Functions\n"
   ]
  },
  {
   "cell_type": "markdown",
   "id": "3241d435",
   "metadata": {},
   "source": [
    "#### Length of String"
   ]
  },
  {
   "cell_type": "code",
   "execution_count": 33,
   "id": "ec01e8ec",
   "metadata": {},
   "outputs": [
    {
     "data": {
      "text/plain": [
       "536"
      ]
     },
     "execution_count": 33,
     "metadata": {},
     "output_type": "execute_result"
    }
   ],
   "source": [
    "# length of a string ( Find the length of above para)\n",
    "len(para)"
   ]
  },
  {
   "cell_type": "code",
   "execution_count": 34,
   "id": "bba2a2e9",
   "metadata": {},
   "outputs": [
    {
     "name": "stdout",
     "output_type": "stream",
     "text": [
      "length mismatch\n"
     ]
    }
   ],
   "source": [
    "a = '''Test\n",
    "1'''\n",
    "b = '''Test\\\n",
    "2'''\n",
    "\n",
    "# Does len(a) == len(b)?\n",
    "if len(a) == len(b):\n",
    "    print(\"They are of same length\")\n",
    "else:\n",
    "    print(\"length mismatch\")"
   ]
  },
  {
   "cell_type": "code",
   "execution_count": 50,
   "id": "96de3c13",
   "metadata": {},
   "outputs": [
    {
     "name": "stdout",
     "output_type": "stream",
     "text": [
      "length of a: 31\n",
      "length of b 21\n"
     ]
    }
   ],
   "source": [
    "# Can you guess Why? Whose length is bigger a or b.\n",
    "print(\"length of a:\", len(a)) \n",
    "print(\"length of b\", len(b))"
   ]
  },
  {
   "cell_type": "markdown",
   "id": "240943e1",
   "metadata": {},
   "source": [
    "Explanation : As mentioned before in paragraph string \" \\ \" is not recognised as character by python. "
   ]
  },
  {
   "cell_type": "markdown",
   "id": "b0b03880",
   "metadata": {},
   "source": [
    "#### String Method"
   ]
  },
  {
   "cell_type": "code",
   "execution_count": 37,
   "id": "ab3492ba",
   "metadata": {},
   "outputs": [
    {
     "name": "stdout",
     "output_type": "stream",
     "text": [
      "36\n"
     ]
    }
   ],
   "source": [
    "print(para.count(\"a\"))"
   ]
  },
  {
   "cell_type": "markdown",
   "id": "730a0282",
   "metadata": {},
   "source": [
    "Notice that para is a variable and we are using ```.``` orperator and using ```count``` function.\n",
    "\n",
    "Here count is a method of string class and since ```para``` is a instance of a string data type it has inherited count method.\n",
    "\n",
    "Rule of thumb is if you see ```()``` it is either a function or a method, if it has a ```.``` followed by a function call. It is a method."
   ]
  },
  {
   "cell_type": "code",
   "execution_count": 49,
   "id": "f76c4d6f",
   "metadata": {},
   "outputs": [
    {
     "name": "stdout",
     "output_type": "stream",
     "text": [
      "Hello\n",
      "1\n",
      "['Hello', 'world']\n",
      "HELLO\n",
      "hello\n",
      "original length: 31\n",
      "stripped length: 21\n"
     ]
    }
   ],
   "source": [
    "# Methods\n",
    "x = \"hello\"\n",
    "\n",
    "# capitalize()\tConverts the first character to upper case\n",
    "print(x.capitalize())\n",
    "\n",
    "# find()\tSearches the string for a specified value and returns the position of where it was found\n",
    "print(x.find('e'))\n",
    "\n",
    "#split()\tSplits the string at the specified separator, and returns a list\n",
    "y = \"Hello world\"\n",
    "print(y.split())\n",
    "\n",
    "# upper()\tConverts a string into upper case\n",
    "print(x.upper())\n",
    "\n",
    "# lower()\tConverts a string into lower case\n",
    "print(x.lower())\n",
    "\n",
    "# strip()\tstrip method for removing whitespaces \n",
    "a= '   too much memory usage       '\n",
    "print(\"original length:\", len(a))\n",
    "b = a.strip()\n",
    "print(\"stripped length:\", len(b))"
   ]
  },
  {
   "cell_type": "markdown",
   "id": "c3f3b59b",
   "metadata": {},
   "source": [
    "Covering all the methods are out of the scope of this workshop, but you are recommended to learn about them."
   ]
  },
  {
   "cell_type": "markdown",
   "id": "07d595e0",
   "metadata": {},
   "source": [
    "#### Formatted Strings\n",
    "\n",
    "A formatted string literal or f-string is a string literal that is prefixed with 'f' or 'F'. These strings may contain replacement fields, which are expressions delimited by curly braces {}. While other string literals always have a constant value, formatted strings are really expressions evaluated at run time. \n",
    "\n",
    "To create an f-string, prefix the string with the letter “ f ”. F-strings provide a concise and convenient way to embed python expressions inside string literals for formatting. "
   ]
  },
  {
   "cell_type": "code",
   "execution_count": 1,
   "id": "015681be",
   "metadata": {},
   "outputs": [
    {
     "name": "stdout",
     "output_type": "stream",
     "text": [
      "Pyhton is a popular programming language. It was created by Guido van Rossum, and released in 1991..\n",
      "Hello, My name is Tushar and I'm 23 years old.\n"
     ]
    }
   ],
   "source": [
    "val = 'Pyhton'\n",
    "print(f\"{val} is a popular programming language. It was created by Guido van Rossum, and released in 1991..\")\n",
    " \n",
    "name = 'Tushar'\n",
    "age = 23\n",
    "print(f\"Hello, My name is {name} and I'm {age} years old.\")"
   ]
  },
  {
   "cell_type": "markdown",
   "id": "485f06e9",
   "metadata": {},
   "source": [
    "You can pad text with a fixed digit of numbers using ```:```"
   ]
  },
  {
   "cell_type": "code",
   "execution_count": 4,
   "id": "9bf2ad8d",
   "metadata": {},
   "outputs": [
    {
     "name": "stdout",
     "output_type": "stream",
     "text": [
      "Vatsal         , Hi there\n",
      "   1245647, wow thats a big number!\n"
     ]
    }
   ],
   "source": [
    "# printing text\n",
    "name = 'Vatsal'\n",
    "print(f'{name:15}, Hi there')\n",
    "\n",
    "# works with numbers too\n",
    "big_number = 1245647\n",
    "print(f'{big_number:10}, wow thats a big number!')"
   ]
  },
  {
   "cell_type": "markdown",
   "id": "c260b0d4",
   "metadata": {},
   "source": [
    "Noticed the number aligned right like it does in excel.\n",
    "\n",
    "We can force align text and numbers using:\n",
    "- ```<``` :Left align\n",
    "- ```>``` :Right align\n",
    "- ```^``` :Center align"
   ]
  },
  {
   "cell_type": "code",
   "execution_count": 5,
   "id": "2a3ef725",
   "metadata": {},
   "outputs": [
    {
     "name": "stdout",
     "output_type": "stream",
     "text": [
      "1245647   , wow thats a big number! but now its left aligned\n"
     ]
    }
   ],
   "source": [
    "big_number = 1245647\n",
    "print(f'{big_number:<10}, wow thats a big number! but now its left aligned')"
   ]
  },
  {
   "cell_type": "markdown",
   "id": "c9fb666c",
   "metadata": {},
   "source": [
    "We can use a ```.``` after ```:``` to specify the precision we want for numbers."
   ]
  },
  {
   "cell_type": "code",
   "execution_count": 13,
   "id": "f1ddd9e9",
   "metadata": {},
   "outputs": [
    {
     "name": "stdout",
     "output_type": "stream",
     "text": [
      "12345.00000\n",
      "123.12\n"
     ]
    }
   ],
   "source": [
    "num = 12345\n",
    "float_num = 123.1234\n",
    "\n",
    "print(f'{num:.5f}')\n",
    "print(f'{float_num:.2f}')\n"
   ]
  }
 ],
 "metadata": {
  "kernelspec": {
   "display_name": "Python 3",
   "language": "python",
   "name": "python3"
  },
  "language_info": {
   "codemirror_mode": {
    "name": "ipython",
    "version": 3
   },
   "file_extension": ".py",
   "mimetype": "text/x-python",
   "name": "python",
   "nbconvert_exporter": "python",
   "pygments_lexer": "ipython3",
   "version": "3.8.8"
  }
 },
 "nbformat": 4,
 "nbformat_minor": 5
}
